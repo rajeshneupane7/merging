{
 "cells": [
  {
   "cell_type": "code",
   "execution_count": 2,
   "id": "2e3dfbf9-da3b-4131-9dda-68d3e5001b13",
   "metadata": {},
   "outputs": [],
   "source": [
    "import os\n",
    "import pandas as pd\n",
    "import datetime\n",
    "\n"
   ]
  },
  {
   "cell_type": "code",
   "execution_count": 3,
   "id": "644bea52-aeac-4f73-a31e-08acb77e6800",
   "metadata": {},
   "outputs": [
    {
     "data": {
      "text/plain": [
       "'C:\\\\Users\\\\User'"
      ]
     },
     "execution_count": 3,
     "metadata": {},
     "output_type": "execute_result"
    }
   ],
   "source": [
    "os.getcwd()"
   ]
  },
  {
   "cell_type": "code",
   "execution_count": 4,
   "id": "f0ab9477-2ccb-4b8a-b580-ba1040adf50c",
   "metadata": {},
   "outputs": [],
   "source": [
    "os.chdir('C:\\\\Users\\\\User\\\\OneDrive - Tuskegee University\\\\Desktop\\\\PhD Projects\\\\Culling')"
   ]
  },
  {
   "cell_type": "code",
   "execution_count": 5,
   "id": "fd41abae-2fe1-48ab-aee6-2ad5715cd02b",
   "metadata": {},
   "outputs": [],
   "source": [
    "import pandas as pd"
   ]
  },
  {
   "cell_type": "code",
   "execution_count": 6,
   "id": "0ce4a3b5-e18c-41b3-8bb2-510a5b151ffc",
   "metadata": {},
   "outputs": [],
   "source": [
    "dataset= pd.read_excel('cdr.xlsx')"
   ]
  },
  {
   "cell_type": "code",
   "execution_count": 7,
   "id": "8046b4f2-e0be-48d8-bf98-89db4993a956",
   "metadata": {},
   "outputs": [
    {
     "data": {
      "text/plain": [
       "Index(['HerdCode', 'StateCode_x', 'State', 'AnimalIndex', 'LeftHerdSeq',\n",
       "       'CalvingDate', 'DaysSinceCalving', 'LactNum_x', 'DIM',\n",
       "       'ProjActual305DayMilk', 'Proj305DayMEMilk', 'HerdmateAvgMilk', 'CAR1',\n",
       "       'BredDate', 'NextCalvingOrDueDate', 'Diagnosis', 'StatusDate',\n",
       "       'StatusCode', 'Culling', 'LeftDate', 'CalvingYear', 'CalvingMonth',\n",
       "       'LeftYear', 'LeftMonth', 'CalvingSeason', 'CullingSeason',\n",
       "       'BreedingYear', 'BreedingMonth', 'BreedingSeason', 'NumberOfCowsCalved',\n",
       "       'CowRelative305ME', 'CowRelative305MECAT',\n",
       "       'avgeMEmilkperherdperyearperseason', 'HerdRelative305ME',\n",
       "       'HerdRelative305MECAT', 'CAR1.1', 'car_1', 'culling_reasons',\n",
       "       'Herd_size', 'conception_date', 'cow_days', 'cow_days.1',\n",
       "       'cow_risk_new', 'CDR'],\n",
       "      dtype='object')"
      ]
     },
     "execution_count": 7,
     "metadata": {},
     "output_type": "execute_result"
    }
   ],
   "source": [
    "dataset.columns"
   ]
  },
  {
   "cell_type": "code",
   "execution_count": 16,
   "id": "d3a0c94b-0dab-4a01-a283-a579270cd7c7",
   "metadata": {},
   "outputs": [],
   "source": [
    "dataset_new=dataset[['CalvingDate','LeftDate','NextCalvingOrDueDate','HerdCode', 'StateCode_x', 'State', 'AnimalIndex', 'LeftHerdSeq', 'CDR', 'LactNum_x']]"
   ]
  },
  {
   "cell_type": "code",
   "execution_count": 17,
   "id": "1a87cbef-cdea-4dfc-8148-dcea6a4365c9",
   "metadata": {
    "scrolled": true
   },
   "outputs": [
    {
     "name": "stderr",
     "output_type": "stream",
     "text": [
      "C:\\Users\\User\\AppData\\Local\\Temp\\ipykernel_25452\\2559695667.py:1: SettingWithCopyWarning: \n",
      "A value is trying to be set on a copy of a slice from a DataFrame.\n",
      "Try using .loc[row_indexer,col_indexer] = value instead\n",
      "\n",
      "See the caveats in the documentation: https://pandas.pydata.org/pandas-docs/stable/user_guide/indexing.html#returning-a-view-versus-a-copy\n",
      "  dataset_new['start_date'] = dataset['NextCalvingOrDueDate'].fillna(dataset['LeftDate'])\n",
      "C:\\Users\\User\\AppData\\Local\\Temp\\ipykernel_25452\\2559695667.py:2: SettingWithCopyWarning: \n",
      "A value is trying to be set on a copy of a slice from a DataFrame.\n",
      "Try using .loc[row_indexer,col_indexer] = value instead\n",
      "\n",
      "See the caveats in the documentation: https://pandas.pydata.org/pandas-docs/stable/user_guide/indexing.html#returning-a-view-versus-a-copy\n",
      "  dataset_new['end_date']=dataset['CalvingDate']\n"
     ]
    }
   ],
   "source": [
    "dataset_new['start_date'] = dataset['NextCalvingOrDueDate'].fillna(dataset['LeftDate'])\n",
    "dataset_new['end_date']=dataset['CalvingDate']"
   ]
  },
  {
   "cell_type": "code",
   "execution_count": 20,
   "id": "59cb6fb2-6079-48a7-85ca-a8c28c7b997f",
   "metadata": {},
   "outputs": [],
   "source": [
    "list_df=[]\n",
    "for herd, data_her in dataset_new.groupby('HerdCode'):\n",
    "    for Ani_, data_ani in data_her.groupby('AnimalIndex'):\n",
    "        for left_, data_left in data_ani.groupby('LeftHerdSeq'):\n",
    "            data_left['days_per_year'] = data_left.apply(days_in_each_year, axis=1)\n",
    "\n",
    "# Expand the dictionary into separate columns for each year\n",
    "            df_years = data_left['days_per_year'].apply(pd.Series)\n",
    "            #print(df_years.reset_index())\n",
    "\n",
    "# Concatenate the original dataframe with the new year columns\n",
    "            df_final = pd.concat([data_left, df_years], axis=1).drop(columns=['days_per_year'])\n",
    "            list_df.append(df_final)\n",
    "            \n",
    "\n",
    "            \n",
    "            \n",
    "            \n",
    "            "
   ]
  },
  {
   "cell_type": "code",
   "execution_count": 23,
   "id": "e16a5ee2-2c76-4156-bdce-cb5d341a3df9",
   "metadata": {},
   "outputs": [],
   "source": [
    "final_df= pd.concat(list_df, axis=0)"
   ]
  },
  {
   "cell_type": "code",
   "execution_count": 27,
   "id": "c2b36090-7976-447a-aca1-e5adfcf72c46",
   "metadata": {},
   "outputs": [],
   "source": [
    "final_df.to_csv('CDR_year.csv')"
   ]
  },
  {
   "cell_type": "code",
   "execution_count": 12,
   "id": "cb7e11dc-fdb9-470a-91b7-8094b5544c3d",
   "metadata": {},
   "outputs": [
    {
     "data": {
      "text/plain": [
       "Index(['HerdCode', 'StateCode_x', 'State', 'AnimalIndex', 'LeftHerdSeq',\n",
       "       'CalvingDate', 'DaysSinceCalving', 'LactNum_x', 'DIM',\n",
       "       'ProjActual305DayMilk', 'Proj305DayMEMilk', 'HerdmateAvgMilk', 'CAR1',\n",
       "       'BredDate', 'NextCalvingOrDueDate', 'Diagnosis', 'StatusDate',\n",
       "       'StatusCode', 'Culling', 'LeftDate', 'CalvingYear', 'CalvingMonth',\n",
       "       'LeftYear', 'LeftMonth', 'CalvingSeason', 'CullingSeason',\n",
       "       'BreedingYear', 'BreedingMonth', 'BreedingSeason', 'NumberOfCowsCalved',\n",
       "       'CowRelative305ME', 'CowRelative305MECAT',\n",
       "       'avgeMEmilkperherdperyearperseason', 'HerdRelative305ME',\n",
       "       'HerdRelative305MECAT', 'CAR1.1', 'car_1', 'culling_reasons',\n",
       "       'Herd_size', 'conception_date', 'cow_days', 'cow_days.1',\n",
       "       'cow_risk_new', 'CDR'],\n",
       "      dtype='object')"
      ]
     },
     "execution_count": 12,
     "metadata": {},
     "output_type": "execute_result"
    }
   ],
   "source": [
    "dataset.columns"
   ]
  },
  {
   "cell_type": "code",
   "execution_count": null,
   "id": "c6bff5a5-137c-4b80-80b8-9fa20ced6848",
   "metadata": {},
   "outputs": [],
   "source": []
  },
  {
   "cell_type": "code",
   "execution_count": 11,
   "id": "41c3aab8-b765-4bdb-9b9c-2610aa7ed8e3",
   "metadata": {},
   "outputs": [],
   "source": [
    "import pandas as pd\n",
    "from datetime import datetime, timedelta\n",
    "\n",
    "# Function to calculate days in each year between two dates\n",
    "def days_in_each_year(row):\n",
    "    end_date = row['start_date']\n",
    "    start_date = row['end_date']\n",
    "    \n",
    "    current_date = start_date\n",
    "    days_per_year = {}\n",
    "\n",
    "    # Loop over each year\n",
    "    while current_date.year <= end_date.year:\n",
    "        start_of_year = datetime(current_date.year, 1, 1)\n",
    "        end_of_year = datetime(current_date.year + 1, 1, 1) - timedelta(days=1)\n",
    "\n",
    "        # Adjust the start and end dates if they are within the same year\n",
    "        if current_date.year == start_date.year:\n",
    "            start_of_year = start_date\n",
    "        if current_date.year == end_date.year:\n",
    "            end_of_year = end_date\n",
    "\n",
    "        # Calculate days in the year\n",
    "        days_in_year = (end_of_year - start_of_year).days + 1\n",
    "        days_per_year[current_date.year] = days_in_year\n",
    "\n",
    "        # Move to next year\n",
    "        current_date = datetime(current_date.year + 1, 1, 1)\n",
    "    \n",
    "    return days_per_year\n",
    "\n",
    "\n"
   ]
  },
  {
   "cell_type": "code",
   "execution_count": null,
   "id": "34ab9052-2a0a-4474-b77b-d461d0b99822",
   "metadata": {},
   "outputs": [],
   "source": []
  }
 ],
 "metadata": {
  "kernelspec": {
   "display_name": "Python 3 (ipykernel)",
   "language": "python",
   "name": "python3"
  },
  "language_info": {
   "codemirror_mode": {
    "name": "ipython",
    "version": 3
   },
   "file_extension": ".py",
   "mimetype": "text/x-python",
   "name": "python",
   "nbconvert_exporter": "python",
   "pygments_lexer": "ipython3",
   "version": "3.12.4"
  }
 },
 "nbformat": 4,
 "nbformat_minor": 5
}
